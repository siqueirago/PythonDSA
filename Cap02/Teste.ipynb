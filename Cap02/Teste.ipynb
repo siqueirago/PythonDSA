{
 "cells": [
  {
   "cell_type": "markdown",
   "id": "01c81edd",
   "metadata": {},
   "source": [
    "# DSA - Data Science Academy"
   ]
  },
  {
   "cell_type": "markdown",
   "id": "db90850c",
   "metadata": {},
   "source": [
    "# Fundamentos de Linguagem Python para Análise de Dados e Data Science"
   ]
  },
  {
   "cell_type": "markdown",
   "id": "98b0cddd",
   "metadata": {},
   "source": [
    "## Início - Cap02\n",
    "### Primeiros passos com a Linguagem python - Visão geral, Instalação e ChatGPT"
   ]
  },
  {
   "cell_type": "markdown",
   "id": "20bbfb5a",
   "metadata": {},
   "source": [
    "### Descrição\n",
    "Python é uma linguagem de programação de alto nível, interpretada e orientada a objetos, conhecida por sua sintaxe simples e legível. Criada por Guido van Rossum e lançada em 1991, ela é amplamente utilizada em diversas áreas da computação, como desenvolvimento web, automação, ciência de dados, inteligência artificial, machine learning e muito mais."
   ]
  },
  {
   "cell_type": "markdown",
   "id": "e6d56853",
   "metadata": {},
   "source": [
    "### Como surgiu a linguagem Python?\n",
    "\n",
    "Python foi criado no final da década de 1980 por Guido van Rossum , um programador holandês, e lançado oficialmente em 1991 . Ele desenvolveu a linguagem enquanto trabalhava no CWI (Centrum Wiskunde & Informatica) , na Holanda, como um sucessor de uma linguagem chamada ABC , que também tinha uma sintaxe simples e interativa, mas apresentava algumas limitações.\n",
    "\n",
    "Motivações para a criação do Python\n",
    "Guido van Rossum queria desenvolver uma linguagem que fosse:\n",
    "\n",
    "* Fácil de aprender e usar , com sintaxe clara e legível.\n",
    "* Altamente produtivo , permitindo que programadores escrevam menos código para realizar tarefas complexas.\n",
    "* Interpretada e interativa , semelhante ao shell do Unix, para facilitar testes e desenvolvimento.\n",
    "* Extensível , permitindo integração com outras linguagens e bibliotecas.\n",
    "\n",
    "Ele começou o desenvolvimento do Python durante o período de férias no final de 1989 e lançou a primeira versão, Python 0.9.0 , em fevereiro de 1991. Então desde então, a linguagem passou por diversas evoluções, tornando-se uma das mais populares do mundo.\n",
    "\n",
    "O nome Python não tem relação com a cobra, mas sim com o grupo de comédia britânico Monty Python , do qual Guido era fã."
   ]
  },
  {
   "cell_type": "markdown",
   "id": "dac34313",
   "metadata": {},
   "source": [
    "### É fácil aprender a linguagem Python?\n",
    "\n",
    "Sim, Python é considerado uma das linguagens mais simples de aprender , especialmente para iniciantes! Isso acontece porque sua sintaxe é simples e se assemelha à linguagem humana, tornando a leitura e a escrita do código mais intuitivas.\n",
    "\n",
    "### Motivos que tornam Python fácil de aprender:\n",
    "✅ Sintaxe Simples → Menos código para fazer mais. Exemplo de \"Olá, Mundo!\":\n",
    "\n",
    "``print(\"Olá, Mundo!\")``\n",
    "\n",
    "✅ Código Legível → Fácil de entender e manter.\n",
    "\n",
    "✅ Comunidade Ativa → Muitas documentações, cursos e suporte online\n",
    ".\n",
    "✅ Bibliotecas Prontas → Ferramentas como Pandas, NumPy e TensorFlow facilitam aplicações avançadas.\n",
    "\n",
    "✅ Usado em Diversas Áreas → Ideal para automação, análise de dados, web, IA, entre outros.\n",
    "\n",
    "\n",
    "Embora seja fácil de aprender, a prática é essencial . Quanto mais você programar, mais natural será o aprendizado. Como você já tem experiência com Python, provavelmente está reforçando e aprofundando os conhecimentos. 🚀\n"
   ]
  },
  {
   "cell_type": "markdown",
   "id": "32860784",
   "metadata": {},
   "source": [
    "### Principais características do Python:\n",
    "* **Sintaxe Simples e Legível** → Facilita o aprendizado e a escrita do código limpo e organizado.\n",
    "* **Interpretada** → Não precisa ser compilada antes da execução, tornando o desenvolvimento mais ágil.\n",
    "* **Tipagem Dinâmica** → O tipo das variáveis ​​é definido automaticamente pelo interpretador.\n",
    "* **Multiparadigma** → Suporta programação orientada a objetos, funcionais e procedimentais.\n",
    "* **Extensível e Modular** → Possui uma vasta biblioteca padrão e suporta pacotes externos, como NumPy, Pandas, TensorFlow, entre outros.\n",
    "* **Multiplataforma** → Funciona em diferentes sistemas operacionais, como Windows, macOS e Linux.\n",
    "Python é uma das linguagens mais populares do mundo, sendo amplamente empregada por empresas e desenvolvedores devido às suas opiniões e poder. É uma excelente escolha tanto para iniciantes quanto para profissionais experientes."
   ]
  },
  {
   "cell_type": "markdown",
   "id": "a6f3bc63",
   "metadata": {},
   "source": [
    "Gere o código Python que cria uma lista com os números entre 1 e 100 e então imprima os números pares, mas somente se o número for divisível por 4."
   ]
  },
  {
   "cell_type": "code",
   "execution_count": 1,
   "id": "00081aa2",
   "metadata": {},
   "outputs": [
    {
     "name": "stdout",
     "output_type": "stream",
     "text": [
      "4\n",
      "8\n",
      "12\n",
      "16\n",
      "20\n",
      "24\n",
      "28\n",
      "32\n",
      "36\n",
      "40\n",
      "44\n",
      "48\n",
      "52\n",
      "56\n",
      "60\n",
      "64\n",
      "68\n",
      "72\n",
      "76\n",
      "80\n",
      "84\n",
      "88\n",
      "92\n",
      "96\n",
      "100\n"
     ]
    }
   ],
   "source": [
    "# Criando a lista com os números de 1 a 100\n",
    "numeros = list(range(1, 101))\n",
    "\n",
    "# Percorrendo a lista e imprimindo os números pares divisíveis por 4\n",
    "for numero in numeros:\n",
    "    if numero % 2 == 0 and numero % 4 == 0:\n",
    "        print(numero)\n"
   ]
  },
  {
   "cell_type": "markdown",
   "id": "07ab9b80",
   "metadata": {},
   "source": [
    "###  Explicação do código:\n",
    "A função range(1, 101)cria uma sequência de números de 1 a 100.\n",
    "\n",
    "A função list()converte essa sequência em uma lista.\n",
    "\n",
    "O laço forpercorre cada número da lista.\n",
    "\n",
    "A condicional if numero % 2 == 0 and numero % 4 == 0verifica se o número é par (divisível por 2) e divisível por 4.\n",
    "\n",
    "Se a condição for verdadeira, o número é impresso.\n",
    "\n",
    "Quando você rodar o código, ele imprimirá os números como:\n",
    "\n",
    "4, 8, 12, 16, 20, ... até 100."
   ]
  },
  {
   "cell_type": "markdown",
   "id": "e7f9778c",
   "metadata": {},
   "source": [
    "Gere o código Python que cria uma lista com os números entre 1 e 100 e então imprima os números pares, mas somente se o número for divisível por 4, usando compreensão de lista."
   ]
  },
  {
   "cell_type": "code",
   "execution_count": 3,
   "id": "029bbacd",
   "metadata": {},
   "outputs": [
    {
     "name": "stdout",
     "output_type": "stream",
     "text": [
      "[4, 8, 12, 16, 20, 24, 28, 32, 36, 40, 44, 48, 52, 56, 60, 64, 68, 72, 76, 80, 84, 88, 92, 96, 100]\n"
     ]
    }
   ],
   "source": [
    "# Usando list comprehension para criar a lista e filtrar os números pares divisíveis por 4\n",
    "pares_div4 = [numero for numero in range(1, 101) if numero % 2 == 0 and numero % 4 == 0]\n",
    "\n",
    "# Imprimindo os números filtrados\n",
    "print(pares_div4)\n"
   ]
  },
  {
   "cell_type": "code",
   "execution_count": 4,
   "id": "cdb8865d",
   "metadata": {},
   "outputs": [
    {
     "data": {
      "text/plain": [
       "list"
      ]
     },
     "execution_count": 4,
     "metadata": {},
     "output_type": "execute_result"
    }
   ],
   "source": [
    "# Verificar o typo\n",
    "type(pares_div4)"
   ]
  },
  {
   "cell_type": "markdown",
   "id": "a4735ba9",
   "metadata": {},
   "source": [
    "###  Explicação:\n",
    "* A compreensão da lista cria uma lista contendo apenas os números que atendem à condição numero % 2 == 0 and numero % 4 == 0.\n",
    "* A expressão range(1, 101)gera os números de 1 a 100.\n",
    "* A lista resultante será impressa com os números pares e divisíveis por 4.\n",
    "O resultado será uma lista com os números:\n",
    "[4, 8, 12, 16, 20, ..., 100]\n",
    "\n",
    "Se precisar de mais alguma coisa, ap"
   ]
  },
  {
   "cell_type": "markdown",
   "id": "2ce38d03",
   "metadata": {},
   "source": [
    "# Fim"
   ]
  }
 ],
 "metadata": {
  "kernelspec": {
   "display_name": "Python 3 (ipykernel)",
   "language": "python",
   "name": "python3"
  },
  "language_info": {
   "codemirror_mode": {
    "name": "ipython",
    "version": 3
   },
   "file_extension": ".py",
   "mimetype": "text/x-python",
   "name": "python",
   "nbconvert_exporter": "python",
   "pygments_lexer": "ipython3",
   "version": "3.9.13"
  }
 },
 "nbformat": 4,
 "nbformat_minor": 5
}
