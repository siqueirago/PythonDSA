{
 "cells": [
  {
   "cell_type": "markdown",
   "id": "de1f14f8",
   "metadata": {},
   "source": [
    "# Data Science Academy\n",
    "\n",
    "## Fundamentos de Linguagem Python Para Análise de Dados e Data Science\n",
    "\n",
    "## Capítual 3 - Introdução à lógica de Programação\n"
   ]
  },
  {
   "cell_type": "code",
   "execution_count": 5,
   "id": "e6d59389",
   "metadata": {},
   "outputs": [
    {
     "name": "stdout",
     "output_type": "stream",
     "text": [
      "Versão do Python Usada neste Jupyter Notebook: 3.9.13\n"
     ]
    }
   ],
   "source": [
    "# Versão do Python Usada\n",
    "from platform import python_version\n",
    "print('Versão do Python Usada neste Jupyter Notebook:', python_version())"
   ]
  },
  {
   "cell_type": "markdown",
   "id": "a8fb4ffe",
   "metadata": {},
   "source": [
    "## O que é Lógica de programação?"
   ]
  },
  {
   "cell_type": "markdown",
   "id": "0d7eacc5",
   "metadata": {},
   "source": [
    "**Lógica de Programação** é o conjunto de conceitos e técnicas usadas para estruturar e resolver problemas de forma organizada, utilizando algoritmos. Em outras palavras, é a base do pensamento computacional, que permite escrever instruções claras e sequenciais para um computador funcionar.\n",
    "\n",
    "Ela envolve conceitos como:\n",
    "\n",
    "✅ **Sequência** – executar comandos em ordem lógica.\n",
    "\n",
    "✅ **Decisão** (Condicionais) – usar estruturas como if-elsepara tomar decisões.\n",
    "\n",
    "✅ **Repetição** (Laços) – usar for, whilepara executar ações várias vezes.\n",
    "\n",
    "✅ **Estruturas de Dados** – como variáveis, listas e matrizes para armazenar e manipular informações.\n",
    "\n",
    "\n",
    "A lógica de programação é essencial para qualquer linguagem de programação, seja Python, Java, C ou qualquer outra. Quem entende bem lógica consegue aprender novas linguagens com mais facilidade!"
   ]
  },
  {
   "cell_type": "markdown",
   "id": "33b4bd9f",
   "metadata": {},
   "source": [
    "## O que é Pseudocódigo?\n",
    "\n",
    "Pseudocódigo é uma forma de descrever algoritmos utilizando uma linguagem simplificada, que mistura elementos de linguagem natural (como o português) com comandos de programação estruturada. Ele serve para representar a lógica de um programa de maneira clara e independente de qualquer linguagem específica.\n",
    "\n",
    "### Por que usar pseudocódigo?\n",
    "\n",
    "✅ Facilita o entendimento da lógica antes de escrever o código real.\n",
    "\n",
    "✅ Independência da linguagem de programação – foca no julgamento lógico.\n",
    "\n",
    "✅ Ajuda no planejamento de algoritmos antes da implementação.\n"
   ]
  },
  {
   "cell_type": "markdown",
   "id": "a7747b80",
   "metadata": {},
   "source": [
    "### Pseudocódigo 01 -  Calculau a área de um Paralelogramo\n",
    "Nota: Um paralelogramo é um quadrilátero cujos lados opostos são paralelos e de igual comprimento . Exemplos incluem o retângulo , o losango e o quadrado.\n",
    "\n",
    "``\n",
    "INÍCIO\n",
    "   Escreva \"Digite a base do paralelogramo:\"\n",
    "   Leia base\n",
    "   Escreva \"Digite a altura do paralelogramo:\"\n",
    "   Leia altura\n",
    "   area ← base * altura\n",
    "   Escreva \"A área do paralelogramo é:\", area\n",
    "FIM\n",
    "``"
   ]
  },
  {
   "cell_type": "markdown",
   "id": "178f2306",
   "metadata": {},
   "source": [
    "## Convertendo o pseudocódigo 1 em progama Python"
   ]
  },
  {
   "cell_type": "code",
   "execution_count": 26,
   "id": "4a480457",
   "metadata": {},
   "outputs": [
    {
     "name": "stdout",
     "output_type": "stream",
     "text": [
      "Bem vindo ao calculador da Área  de Paralelogramo\n"
     ]
    }
   ],
   "source": [
    "print('Bem vindo ao calculador da Área  de Paralelogramo')"
   ]
  },
  {
   "cell_type": "code",
   "execution_count": 27,
   "id": "8b9bb161",
   "metadata": {},
   "outputs": [
    {
     "name": "stdout",
     "output_type": "stream",
     "text": [
      "Digite a base do paralelogramo: 4\n",
      "Digite a altura do paralelogramo: 6\n",
      "A área do paralelogramo é: 24.0\n"
     ]
    }
   ],
   "source": [
    "# Solicita a base ao usuário\n",
    "base = float(input(\"Digite a base do paralelogramo: \"))\n",
    "\n",
    "# Solicita a altura ao usuário\n",
    "altura = float(input(\"Digite a altura do paralelogramo: \"))\n",
    "\n",
    "# Calcula a área\n",
    "area = base * altura\n",
    "\n",
    "# Exibe o resultado\n",
    "print(\"A área do paralelogramo é:\", area)"
   ]
  },
  {
   "cell_type": "markdown",
   "id": "9ee4f507",
   "metadata": {},
   "source": [
    "## Pseudocódigo 2 - Calculadora Simples"
   ]
  },
  {
   "cell_type": "markdown",
   "id": "2c40f532",
   "metadata": {},
   "source": [
    "\n",
    "Inicio\n",
    "\n",
    "    Exiba \"Bem-vindo à Calculadora\" \n",
    "    Peça para o usuário inserir o primeiro número \n",
    "    Armazene o primeiro número em uma variável \n",
    "    Peça para o usuário inserir o segundo número \n",
    "    Armazene o segundo número em uma variável \n",
    "    Peça para o usuário selecionar uma operação (+, -, *, /) \n",
    "    Armazene a operação em uma variável \n",
    "    Utilize a operação selecionada e os números armazenados para realizar o calculo\n",
    "    Exiba o resultado \n",
    "    \n",
    "Fim\n"
   ]
  },
  {
   "cell_type": "code",
   "execution_count": 1,
   "id": "18139e71",
   "metadata": {},
   "outputs": [
    {
     "name": "stdout",
     "output_type": "stream",
     "text": [
      "Seja Bem-Vindo a Calculadora\n"
     ]
    }
   ],
   "source": [
    "# Calculadora simples em python\n",
    "\n",
    "print('Seja Bem-Vindo a Calculadora')"
   ]
  },
  {
   "cell_type": "code",
   "execution_count": 3,
   "id": "771eb64a",
   "metadata": {},
   "outputs": [
    {
     "name": "stdout",
     "output_type": "stream",
     "text": [
      "Digite o primeiro número: 10\n",
      "Digite o segundo número: 10\n",
      "Escolha a operação (+, -, *, /): /\n",
      "O resultado é: 1.0\n"
     ]
    }
   ],
   "source": [
    "# Solicita ao usuário o primeiro número\n",
    "num1 = float(input(\"Digite o primeiro número: \"))\n",
    "\n",
    "# Solicita ao usuário o segundo número\n",
    "num2 = float(input(\"Digite o segundo número: \"))\n",
    "\n",
    "# Solicita a operação desejada\n",
    "operador = input(\"Escolha a operação (+, -, *, /): \")\n",
    "\n",
    "# Inicializa a variável resultado como None\n",
    "resultado = None\n",
    "\n",
    "# Realiza o cálculo com base na operação escolhida\n",
    "if operador == \"+\":\n",
    "    resultado = num1 + num2\n",
    "elif operador == \"-\":\n",
    "    resultado = num1 - num2\n",
    "elif operador == \"*\":\n",
    "    resultado = num1 * num2\n",
    "elif operador == \"/\":\n",
    "    if num2 != 0:\n",
    "        resultado = num1 / num2\n",
    "    else:\n",
    "        print(\"Erro: Divisão por zero!\")\n",
    "else:\n",
    "    print(\"Operação inválida!\")\n",
    "\n",
    "# Exibe o resultado apenas se ele for válido\n",
    "if resultado is not None:\n",
    "    print(\"O resultado é:\", resultado)\n",
    "\n"
   ]
  },
  {
   "cell_type": "markdown",
   "id": "8582900e",
   "metadata": {},
   "source": [
    "## Pseudocódigo 3 - Algoritmo Bubble Sort \n",
    "Bubble Sort é um algoritmo de ordenação simples que funciona comparando cada elemento com o próximo, e trocando-os de lugar se eles estiverem em ordem incorreta. O algoritmo repete esse processo várias vezes, até que todos os elementos estejam ordenados. A cada passagem, o maior elemento \"flutua\" para o final do array, como uma bolha, dando origem ao nome do algoritmo."
   ]
  },
  {
   "cell_type": "markdown",
   "id": "c6acfd13",
   "metadata": {},
   "source": [
    "Inicie \n",
    "\n",
    "    Para cada elemento i no array de tamanho n \n",
    "    Para cada elemento j no array de tamanho n-1\n",
    "    Se elemento i for maior que elemento j \n",
    "    Troque os elementos i e j \n",
    "    Exiba o array ordenado \n",
    "Fim\n"
   ]
  },
  {
   "cell_type": "code",
   "execution_count": null,
   "id": "3f5edeb2",
   "metadata": {},
   "outputs": [],
   "source": [
    "# Considere esta lista como exemplo para ordenação com o Bubble sort \n",
    "lista = [6, 3, 12, 7] "
   ]
  },
  {
   "cell_type": "code",
   "execution_count": null,
   "id": "59f78604",
   "metadata": {},
   "outputs": [],
   "source": [
    " # Primeira passada do algoritmo (troca os elementos 6 e 3 de lugar) \n",
    "lista = [3, 6, 12, 7] \n"
   ]
  },
  {
   "cell_type": "code",
   "execution_count": null,
   "id": "c8f3c24e",
   "metadata": {},
   "outputs": [],
   "source": [
    "# Segunda passada do algoritmo (não tem troca entre 6 e 12) \n",
    "lista = [3, 6, 12, 7] \n"
   ]
  },
  {
   "cell_type": "code",
   "execution_count": 6,
   "id": "2ce32c45",
   "metadata": {},
   "outputs": [],
   "source": [
    "# Terceira passada do algoritmo (troca os elementos 12 e 7 de lugar) \n",
    "lista =  [3, 6, 7, 12]"
   ]
  },
  {
   "cell_type": "code",
   "execution_count": 9,
   "id": "c559f2bb",
   "metadata": {},
   "outputs": [],
   "source": [
    "# Algoritmo de ordenação (Bubble Sort)\n",
    "\n",
    "lista = [6,7,8,3,10,19,4,1,0,61,30,16,17,82,29,34,43,21,11,39,56,67,12]\n",
    "\n",
    "def bubble_sort(arr):\n",
    "    n = len(arr)\n",
    "    \n",
    "    # Percorre a lista n vezes\n",
    "    for i in range(n):\n",
    "        # Percorre a lista até a posição n-1-i (os maiores já estão no final)\n",
    "        for j in range(0, n - i- 1):\n",
    "            # Se o elemento atual for maior que o próximo, trocamos\n",
    "            if arr[j] > arr[j + 1]:\n",
    "                arr[j], arr[j + 1] = arr[j + 1], arr[j]\n",
    "\n",
    "    return arr\n"
   ]
  },
  {
   "cell_type": "code",
   "execution_count": 10,
   "id": "ec9750d2",
   "metadata": {},
   "outputs": [
    {
     "name": "stdout",
     "output_type": "stream",
     "text": [
      "[0, 1, 3, 4, 6, 7, 8, 10, 11, 12, 16, 17, 19, 21, 29, 30, 34, 39, 43, 56, 61, 67, 82]\n"
     ]
    }
   ],
   "source": [
    "print(bubble_sort(lista))"
   ]
  },
  {
   "cell_type": "markdown",
   "id": "0662ce25",
   "metadata": {},
   "source": [
    "# FIM"
   ]
  },
  {
   "cell_type": "code",
   "execution_count": null,
   "id": "4574f820",
   "metadata": {},
   "outputs": [],
   "source": []
  }
 ],
 "metadata": {
  "kernelspec": {
   "display_name": "Python 3 (ipykernel)",
   "language": "python",
   "name": "python3"
  },
  "language_info": {
   "codemirror_mode": {
    "name": "ipython",
    "version": 3
   },
   "file_extension": ".py",
   "mimetype": "text/x-python",
   "name": "python",
   "nbconvert_exporter": "python",
   "pygments_lexer": "ipython3",
   "version": "3.9.13"
  }
 },
 "nbformat": 4,
 "nbformat_minor": 5
}
